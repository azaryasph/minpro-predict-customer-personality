{
 "cells": [
  {
   "cell_type": "markdown",
   "metadata": {},
   "source": [
    "# Predict Customer Personality to Boost Marketing Campaign by Using Machine Learning"
   ]
  },
  {
   "cell_type": "markdown",
   "metadata": {},
   "source": [
    "## Task 1 : Conversion Rate Analysis Based On Income, Spending And Age\n",
    "Goals : Find a pattern of consumer behavior.<br>\n",
    "Objective : \n",
    "- Feature engineering \n",
    "- Analyze Conversion Rate with other variables such as age, income, expenses, etc "
   ]
  },
  {
   "cell_type": "markdown",
   "metadata": {},
   "source": [
    "### Import Library"
   ]
  },
  {
   "cell_type": "code",
   "execution_count": null,
   "metadata": {},
   "outputs": [],
   "source": [
    "import pandas as pd\n",
    "import numpy as np\n",
    "import matplotlib.pyplot as plt\n",
    "import seaborn as sns"
   ]
  },
  {
   "cell_type": "markdown",
   "metadata": {},
   "source": [
    "### Load Data"
   ]
  },
  {
   "cell_type": "code",
   "execution_count": null,
   "metadata": {},
   "outputs": [],
   "source": [
    "pd.set_option('display.max_columns', None)\n",
    "df = pd.read_csv('./data/marketing_campaign_data.csv')\n",
    "df.sample(10)"
   ]
  },
  {
   "cell_type": "code",
   "execution_count": null,
   "metadata": {},
   "outputs": [],
   "source": []
  },
  {
   "cell_type": "markdown",
   "metadata": {},
   "source": [
    "### Feature Engineering\n",
    "New Features :\n",
    "- Age                = age for each customer\n",
    "- AgeGroup           = age group for better interpretation in analysis ahead\n",
    "- Parent             = is the customer have kid or not\n",
    "- NumChild           = how many child do the customer have?\n",
    "- TotalAcceptedCmp   = How many campaigns does the customer receive after the campaign is carried out?\n",
    "- Total Trx          = How many transaction the customer do in our store?\n",
    "- Online Trx         = How many online transaction the customer generate on our platform? \n",
    "- ConversionRate     = the percentage of website visitors who complete a web purchase"
   ]
  },
  {
   "cell_type": "code",
   "execution_count": null,
   "metadata": {},
   "outputs": [],
   "source": [
    "# make a copy of df for feature engineering\n",
    "dfe = df.copy()\n",
    "dfe.drop(columns='Unnamed: 0', inplace=True)\n",
    "\n",
    "# new column age\n",
    "dfe['Age'] = 2024 - dfe['Year_Birth']\n",
    "\n",
    "# new column age group\n",
    "age_grouping = [\n",
    "    (dfe['Age'] >= 60),\n",
    "    (dfe['Age'] >= 40 ) & (dfe['Age'] < 60),\n",
    "    (dfe['Age'] >= 28) & (dfe['Age'] < 40)\n",
    "]\n",
    "age_category = ['Old Adults', 'Middled-aged Adults', 'Young Adults']\n",
    "dfe['AgeGroup'] = np.select(age_grouping, age_category)\n",
    "\n",
    "# new column HasKid\n",
    "def has_kid(row):\n",
    "    if row['Kidhome'] > 0 or row['Teenhome'] > 0:\n",
    "        return 'yes'\n",
    "    else:\n",
    "        return 'no'\n",
    "dfe['Parent'] = dfe.apply(has_kid, axis=1)\n",
    "\n",
    "# Num child column\n",
    "dfe['NumChild'] = dfe['Kidhome'] + dfe['Teenhome']\n",
    "\n",
    "# new column TotalAcceptedCmp\n",
    "dfe['TotalAcceptedCmp'] = dfe['AcceptedCmp1'] + dfe['AcceptedCmp2'] + dfe['AcceptedCmp3'] + dfe['AcceptedCmp4'] + dfe['AcceptedCmp5']\n",
    "\n",
    "# new column TotalSpending\n",
    "dfe['TotalSpending'] = dfe['MntCoke'] + dfe['MntFruits'] + dfe['MntMeatProducts'] + dfe['MntFishProducts'] + dfe['MntSweetProducts'] + dfe['MntGoldProds']\n",
    "\n",
    "# Total Transaction column\n",
    "dfe['TotalTrx'] = dfe['NumDealsPurchases'] + dfe['NumWebPurchases'] + dfe['NumCatalogPurchases'] + dfe['NumStorePurchases']\n",
    "\n",
    "# ConversionRate column\n",
    "dfe['ConversionRate'] =  dfe['NumWebPurchases'] / dfe['NumWebVisitsMonth']"
   ]
  },
  {
   "cell_type": "code",
   "execution_count": null,
   "metadata": {},
   "outputs": [],
   "source": [
    "dfe[['Education', 'Marital_Status', 'Income','Recency','NumWebVisitsMonth',\n",
    "       'Complain', 'Z_CostContact', 'Z_Revenue', 'Response',\n",
    "       'Age', 'AgeGroup', 'Parent', 'NumChild', 'TotalAcceptedCmp',\n",
    "       'TotalSpending', 'TotalTrx', 'ConversionRate']].sample(10)"
   ]
  },
  {
   "cell_type": "code",
   "execution_count": null,
   "metadata": {},
   "outputs": [],
   "source": [
    "dfe.describe()"
   ]
  },
  {
   "cell_type": "markdown",
   "metadata": {},
   "source": [
    "### EDA"
   ]
  },
  {
   "cell_type": "code",
   "execution_count": null,
   "metadata": {},
   "outputs": [],
   "source": [
    "plt.figure(figsize=(12,8), facecolor='#E8E8E8')\n",
    "sns.scatterplot(x='Income', y='ConversionRate', data=dfe, color='#D1106F')\n",
    "\n",
    "plt.xlim(0, 200000000)\n",
    "plt.ylim(0, 4.7)\n",
    "\n",
    "plt.axvline(x=110000000, color='b', linestyle='--') # Vertical line at x=100000000\n",
    "\n",
    "plt.title(\"Customer Conversion Rate and Income Correlation\", fontsize=19, fontweight='bold', y=1.02)\n",
    "plt.xlabel('Income', fontsize=13.5)\n",
    "plt.ylabel('Conversion Rate', fontsize=13.5)\n"
   ]
  },
  {
   "cell_type": "code",
   "execution_count": null,
   "metadata": {},
   "outputs": [],
   "source": [
    "plt.figure(figsize=(12,8), facecolor='#E8E8E8')\n",
    "sns.scatterplot(x='TotalSpending', y='Income', data=dfe, color='#D1106F')\n",
    "plt.ylim(0, 122000000)\n",
    "plt.xlim(0, 2700000)\n",
    "plt.axvline(x=2540000, color='b', linestyle='--') # Vertical line at x=100000000\n",
    "plt.title('Customer Income and Total Spending Correlation', fontsize=17, fontweight='bold', y=1.03)\n",
    "plt.xlabel('Total Spending', fontsize=13.5)\n",
    "plt.ylabel('Income', fontsize=13.5)"
   ]
  },
  {
   "cell_type": "code",
   "execution_count": null,
   "metadata": {},
   "outputs": [],
   "source": [
    "plt.figure(figsize=(12,8), facecolor='#E8E8E8')\n",
    "sns.scatterplot(x='TotalSpending', y='ConversionRate', data=dfe, color='#D1106F')\n",
    "plt.ylim(0, 3.8)\n",
    "plt.title('Correlation Between Conversion Rate and Total Spending', fontsize=18, fontweight='bold', y=1.02)\n",
    "plt.xlabel('Total Spending', fontsize=13.5)\n",
    "plt.ylabel('Conversion Rate', fontsize=13.5)"
   ]
  },
  {
   "cell_type": "code",
   "execution_count": null,
   "metadata": {},
   "outputs": [],
   "source": [
    "# Get counts of each age group\n",
    "age_counts = dfe['AgeGroup'].value_counts()\n",
    "palt = ['#00D19B','#D1106F' ,'#25A9D9']\n",
    "\n",
    "# Create pie chart\n",
    "plt.figure(figsize=(12, 8), facecolor='#E8E8E8')\n",
    "patches, texts, autotexts = plt.pie(age_counts, colors=palt, autopct='%1.1f%%', textprops={'size': 13})\n",
    "\n",
    "# Legend\n",
    "plt.legend(patches, age_counts.index, loc=\"best\")\n",
    "\n",
    "plt.title(\"Distribution of Customer by Age Group\", fontsize=18, fontweight='bold', y=1.03)\n",
    "plt.show()"
   ]
  },
  {
   "cell_type": "code",
   "execution_count": null,
   "metadata": {},
   "outputs": [],
   "source": [
    "# Get counts of each age group\n",
    "parent_counts = dfe['Parent'].value_counts()\n",
    "palt = ['#00D19B','#D1106F']\n",
    "\n",
    "# Create pie chart\n",
    "plt.figure(figsize=(12, 8), facecolor='#E8E8E8')\n",
    "patches, texts, autotexts = plt.pie(parent_counts, colors=palt, autopct='%1.1f%%', textprops={'size':13})\n",
    "\n",
    "# Add legend\n",
    "plt.legend(patches, parent_counts.index, loc=\"best\")\n",
    "\n",
    "plt.title(\"Parent Customer Distribution\", fontsize=18, fontweight='bold', y=1.02, x=0.54)\n",
    "plt.show()"
   ]
  },
  {
   "cell_type": "code",
   "execution_count": null,
   "metadata": {},
   "outputs": [],
   "source": [
    "\n",
    "plt.figure(figsize=(10, 8), facecolor='#E8E8E8')\n",
    "palt = ['#D1106F','#00D19B' ,'#25A9D9']\n",
    "age_order = ['Young Adults', 'Middled-aged Adults', 'Old Adults']\n",
    "barplot = sns.barplot(data=dfe, x='AgeGroup', y='ConversionRate',hue='AgeGroup', order=age_order, legend=False, palette=palt, errorbar=None, edgecolor='black')\n",
    "# Add annotations\n",
    "for p in barplot.patches:\n",
    "    height = p.get_height()\n",
    "    barplot.text(p.get_x()+p.get_width()/2.,\n",
    "            height + 0.01,\n",
    "            '{:1.2f}'.format(height),\n",
    "            ha=\"center\",\n",
    "            fontweight='bold') \n",
    "\n",
    "plt.ylim(0, 1.5)\n",
    "plt.title(\"Conversion Rate by Age Group\", fontsize=18, fontweight='bold', y=1.03)\n",
    "plt.xlabel('Age Group', fontsize=12)\n",
    "plt.ylabel('Conversion Rate', fontsize=12)"
   ]
  },
  {
   "cell_type": "code",
   "execution_count": null,
   "metadata": {},
   "outputs": [],
   "source": [
    "plt.figure(figsize=(10, 8), facecolor='#E8E8E8')\n",
    "palt = ['#D1106F','#00D19B' ,'#25A9D9']\n",
    "age_order = ['Young Adults', 'Middled-aged Adults', 'Old Adults']\n",
    "barplot = sns.barplot(data=dfe, x='AgeGroup', y='TotalSpending',hue='AgeGroup', order=age_order, legend=False, palette=palt, errorbar=None, edgecolor='black')\n",
    "\n",
    "# Adding annotations\n",
    "for p in barplot.patches:\n",
    "    barplot.annotate(format(p.get_height(), '.2f'), \n",
    "                   (p.get_x() + p.get_width() / 2., p.get_height()), \n",
    "                   ha = 'center', va = 'center', \n",
    "                   xytext = (0, 10), \n",
    "                   textcoords = 'offset points',\n",
    "                   fontweight='bold')\n",
    "\n",
    "plt.ylim(0, 820000)\n",
    "plt.title(\"Total Spending by Age Group\", fontsize=18, fontweight='bold', y=1.03)\n",
    "plt.xlabel('Age Group', fontsize=13)\n",
    "plt.ylabel('Total Spending', fontsize=13)"
   ]
  },
  {
   "cell_type": "code",
   "execution_count": null,
   "metadata": {},
   "outputs": [],
   "source": [
    "plt.figure(figsize=(10, 8), facecolor='#E8E8E8')\n",
    "palt = ['#D1106F','#00D19B' ,'#25A9D9']\n",
    "age_order = ['Young Adults', 'Middled-aged Adults', 'Old Adults']\n",
    "barplot = sns.barplot(data=dfe, x='AgeGroup', y='TotalAcceptedCmp',hue='AgeGroup', order=age_order, legend=False, palette=palt, errorbar=None, edgecolor='black')\n",
    "\n",
    "# Adding annotations\n",
    "for p in barplot.patches:\n",
    "    barplot.annotate(format(p.get_height(), '.2f'), \n",
    "                   (p.get_x() + p.get_width() / 2., p.get_height()), \n",
    "                   ha = 'center', va = 'center', \n",
    "                   xytext = (0, 10), \n",
    "                   textcoords = 'offset points',\n",
    "                   fontweight='bold')\n",
    "\n",
    "# plt.ylim(0, 820000)\n",
    "plt.title(\"Total Spending by Age Group\", fontsize=18, fontweight='bold', y=1.03)\n",
    "plt.xlabel('Age Group', fontsize=13)\n",
    "plt.ylabel('Total Spending', fontsize=13)"
   ]
  },
  {
   "cell_type": "code",
   "execution_count": null,
   "metadata": {},
   "outputs": [],
   "source": [
    "plt.figure(figsize=(12,8), facecolor='#E8E8E8')\n",
    "palt = ['#D1106F','#00D19B' ,'#25A9D9', '#D16F11']\n",
    "barplot = sns.barplot(x='NumChild', y='ConversionRate',hue='NumChild', legend=False, data=dfe, palette=palt, errorbar=None, edgecolor='black')\n",
    "\n",
    "# Adding annotations\n",
    "for p in barplot.patches:\n",
    "    barplot.annotate(format(p.get_height(), '.2f'), \n",
    "                   (p.get_x() + p.get_width() / 2., p.get_height()), \n",
    "                   ha = 'center', va = 'center', \n",
    "                   xytext = (0, 10), \n",
    "                   textcoords = 'offset points',\n",
    "                   fontweight='bold')\n",
    "\n",
    "plt.ylim(0, 2.2)\n",
    "plt.title(\"Customer Conversion Rate by Number of Children\", fontsize=18, fontweight='bold', y=1.03)\n",
    "plt.xlabel('Number of Children', fontsize=13.5)\n",
    "plt.ylabel('Conversion Rate', fontsize=13.5)"
   ]
  },
  {
   "cell_type": "code",
   "execution_count": null,
   "metadata": {},
   "outputs": [],
   "source": [
    "plt.figure(figsize=(10,8), facecolor='#E8E8E8')\n",
    "palt = ['#D1106F','#00D19B']\n",
    "barplot = sns.barplot(x='Parent', y='ConversionRate',hue='Parent', data=dfe, legend=False, palette=palt, errorbar=None, edgecolor='black')\n",
    "\n",
    "# Add annotations\n",
    "for p in barplot.patches:\n",
    "    barplot.annotate(format(p.get_height(), '.2f'), \n",
    "                     (p.get_x() + p.get_width() / 2., p.get_height()), \n",
    "                     ha = 'center', va = 'center', \n",
    "                     xytext = (0, 10), \n",
    "                     textcoords = 'offset points',\n",
    "                     fontweight='bold')\n",
    "\n",
    "plt.ylim(0, 2.3)\n",
    "plt.title('Conversion Rate by Parental Status', fontsize=18, fontweight='bold', y=1.03)\n",
    "plt.xlabel('Parental Status', fontsize=12)\n",
    "plt.ylabel('Conversion Rate', fontsize=12)"
   ]
  },
  {
   "cell_type": "code",
   "execution_count": null,
   "metadata": {},
   "outputs": [],
   "source": [
    "plt.figure(figsize=(10,8), facecolor='#E8E8E8')\n",
    "palt = ['#D1106F','#00D19B' ,'#25A9D9', '#D16F11', '#6F11D1']\n",
    "ed_order = ['SMA', 'D3', 'S1', 'S2', 'S2']\n",
    "barplot = sns.barplot(x='Education', y='ConversionRate',hue='Education', data=dfe, order=ed_order, legend=False, palette=palt, errorbar=None, edgecolor='black')\n",
    "\n",
    "# Add annotations\n",
    "for p in barplot.patches:\n",
    "    height = p.get_height()\n",
    "    barplot.text(p.get_x()+p.get_width()/2.,\n",
    "            height + 0.01,\n",
    "            '{:1.2f}'.format(height),\n",
    "            ha=\"center\") \n",
    "    \n",
    "plt.ylim(0, 1.28)\n",
    "plt.title('Conversion Rate by Education Level', fontsize=18, fontweight='bold', y=1.03)\n",
    "plt.xlabel('Education', fontsize=12)\n",
    "plt.ylabel('Conversion Rate', fontsize=12)\n"
   ]
  },
  {
   "cell_type": "code",
   "execution_count": null,
   "metadata": {},
   "outputs": [],
   "source": [
    "num = ['Income', 'Recency', 'NumWebVisitsMonth',\n",
    "       'Complain', 'Response', 'Age', 'NumChild', 'TotalAcceptedCmp',\n",
    "       'TotalSpending', 'TotalTrx', 'ConversionRate']\n",
    "plt.figure(figsize=(18,10), facecolor='#E8E8E8')\n",
    "sns.heatmap(dfe[num].corr(), annot=True, cmap='coolwarm')\n",
    "plt.title('Correlation Heatmap', fontsize=18, fontweight='bold', y=1.02)\n",
    "plt.show()"
   ]
  }
 ],
 "metadata": {
  "kernelspec": {
   "display_name": "Python 3",
   "language": "python",
   "name": "python3"
  },
  "language_info": {
   "codemirror_mode": {
    "name": "ipython",
    "version": 3
   },
   "file_extension": ".py",
   "mimetype": "text/x-python",
   "name": "python",
   "nbconvert_exporter": "python",
   "pygments_lexer": "ipython3",
   "version": "3.11.7"
  }
 },
 "nbformat": 4,
 "nbformat_minor": 2
}
