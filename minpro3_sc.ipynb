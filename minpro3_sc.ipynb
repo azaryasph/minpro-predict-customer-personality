{
 "cells": [
  {
   "cell_type": "markdown",
   "metadata": {},
   "source": [
    "# Predict Customer Personality to Boost Marketing Campaign by Using Machine Learning"
   ]
  },
  {
   "cell_type": "markdown",
   "metadata": {},
   "source": [
    "## Task 1 : Conversion Rate Analysis Based On Income, Spending And Age\n",
    "Goals : Find a pattern of consumer behavior.<br>\n",
    "Objective : \n",
    "- Feature engineering \n",
    "- Analyze Conversion Rate with other variables such as age, income, expenses, etc "
   ]
  },
  {
   "cell_type": "markdown",
   "metadata": {},
   "source": [
    "### Import Library"
   ]
  },
  {
   "cell_type": "code",
   "execution_count": null,
   "metadata": {},
   "outputs": [],
   "source": [
    "import pandas as pd\n",
    "import numpy as np\n",
    "import matplotlib.pyplot as plt\n",
    "import seaborn as sns"
   ]
  },
  {
   "cell_type": "markdown",
   "metadata": {},
   "source": [
    "### Load Data"
   ]
  },
  {
   "cell_type": "code",
   "execution_count": null,
   "metadata": {},
   "outputs": [],
   "source": [
    "pd.set_option('display.max_columns', None)\n",
    "df = pd.read_csv('./data/marketing_campaign_data.csv')\n",
    "df.sample(10)"
   ]
  },
  {
   "cell_type": "code",
   "execution_count": null,
   "metadata": {},
   "outputs": [],
   "source": [
    "df.sample(20)"
   ]
  },
  {
   "cell_type": "markdown",
   "metadata": {},
   "source": [
    "### Feature Engineering\n",
    "New Features :\n",
    "- Age                = age for each customer\n",
    "- AgeGroup           = age group for better interpretation in analysis ahead\n",
    "- HasKid             = the customer has kid or not\n",
    "- TotalAcceptedCmp   = How many campaigns does the customer receive after the campaign is carried out?\n",
    "- Conversions        = What actions do they take while visiting our platform? \n",
    "- ConversionRate     = Records the percentage of customers who have completed a desired action"
   ]
  },
  {
   "cell_type": "code",
   "execution_count": null,
   "metadata": {},
   "outputs": [],
   "source": [
    "# make a copy of df for feature engineering\n",
    "dfe = df.copy()\n",
    "dfe.drop(columns='Unnamed: 0', inplace=True)\n",
    "\n",
    "# new column age\n",
    "dfe['Age'] = 2024 - dfe['Year_Birth']\n",
    "\n",
    "# new column age group\n",
    "age_grouping = [\n",
    "    (dfe['Age'] >= 60),\n",
    "    (dfe['Age'] >= 40 ) & (dfe['Age'] < 60),\n",
    "    (dfe['Age'] >= 28) & (dfe['Age'] < 40)\n",
    "]\n",
    "age_category = ['Old Adults', 'Middled-aged Adults', 'Young Adults']\n",
    "dfe['AgeGroup'] = np.select(age_grouping, age_category)\n",
    "\n",
    "# new column HasKid\n",
    "def has_kid(row):\n",
    "    if row['Kidhome'] > 0 or row['Teenhome'] > 0:\n",
    "        return 'yes'\n",
    "    else:\n",
    "        return 'no'\n",
    "dfe['Parent'] = dfe.apply(has_kid, axis=1)\n",
    "\n",
    "# Num child column\n",
    "dfe['NumChild'] = dfe['Kidhome'] + dfe['Teenhome']\n",
    "\n",
    "# new column TotalAcceptedCmp\n",
    "dfe['TotalAcceptedCmp'] = dfe['AcceptedCmp1'] + dfe['AcceptedCmp2'] + dfe['AcceptedCmp3'] + dfe['AcceptedCmp4'] + dfe['AcceptedCmp5']\n",
    "\n",
    "# new column TotalSpending\n",
    "dfe['TotalSpending'] = dfe['MntCoke'] + dfe['MntFruits'] + dfe['MntMeatProducts'] + dfe['MntFishProducts'] + dfe['MntSweetProducts'] + dfe['MntGoldProds']\n",
    "\n",
    "# Total Transaction column\n",
    "dfe['TotalTrx'] = dfe['NumDealsPurchases'] + dfe['NumWebPurchases'] + dfe['NumCatalogPurchases'] + dfe['NumStorePurchases']\n",
    "\n",
    "# Online Transaction column\n",
    "dfe['OnlineTrx'] = dfe['NumDealsPurchases'] + dfe['NumWebPurchases']\n",
    "\n",
    "# Fix NumWebVisit value where online transaction and accepted campaign more than 1\n",
    "def webvisit(data):\n",
    "    if data['NumWebVisitsMonth'] == 0 and data['OnlineTrx'] > 0 and data['TotalAcceptedCmp'] > 0:\n",
    "        return 1\n",
    "    else:\n",
    "        return data['NumWebVisitsMonth']\n",
    "dfe['NumWebVisitsMonth'] = dfe.apply(webvisit, axis=1)\n",
    "\n",
    "# ConversionRate column\n",
    "dfe['ConversionRate'] =  dfe['OnlineTrx'] / dfe['NumWebVisitsMonth'] + dfe['TotalAcceptedCmp']"
   ]
  },
  {
   "cell_type": "code",
   "execution_count": null,
   "metadata": {},
   "outputs": [],
   "source": [
    "dfe[['Education', 'Marital_Status', 'Income','Recency','NumWebVisitsMonth',\n",
    "       'Complain', 'Z_CostContact', 'Z_Revenue', 'Response',\n",
    "       'Age', 'AgeGroup', 'Parent', 'NumChild', 'TotalAcceptedCmp',\n",
    "       'TotalSpending', 'TotalTrx', 'OnlineTrx', 'ConversionRate']].sample(10)"
   ]
  },
  {
   "cell_type": "markdown",
   "metadata": {},
   "source": []
  },
  {
   "cell_type": "markdown",
   "metadata": {},
   "source": [
    "<!-- what do we want from the customer to do/ what we desired that the customer will do (conversion)?\n",
    "- Spending on our platform\n",
    "- Generate Online Transaction\n",
    "- Accept our campaign\n",
    "- \n",
    "\n",
    "What's our effort so the customer do the conversion?\n",
    "-  -->"
   ]
  },
  {
   "cell_type": "code",
   "execution_count": null,
   "metadata": {},
   "outputs": [],
   "source": [
    "dfe.describe()"
   ]
  },
  {
   "cell_type": "markdown",
   "metadata": {},
   "source": [
    "### EDA"
   ]
  },
  {
   "cell_type": "code",
   "execution_count": null,
   "metadata": {},
   "outputs": [],
   "source": [
    "plt.figure(figsize=(12,8), facecolor='lightblue')\n",
    "sns.scatterplot(x='Income', y='ConversionRate', data=dfe, color='green')\n",
    "sns.despine()\n",
    "plt.xlim(0, 200000000)\n",
    "plt.ylim(0, 10)\n",
    "plt.title('Correlation Between Conversion Rate and Income', fontsize=19, fontweight='bold', y=1.05)"
   ]
  },
  {
   "cell_type": "code",
   "execution_count": null,
   "metadata": {},
   "outputs": [],
   "source": [
    "plt.figure(figsize=(12,8), facecolor='lightblue')\n",
    "sns.scatterplot(x='Income', y='ConversionRate', data=dfe, color='green')\n",
    "sns.despine()\n",
    "plt.xlim(0, 200000000)\n",
    "plt.ylim(0, 10)\n",
    "plt.title('Correlation Between Conversion Rate and Income', fontsize=19, fontweight='bold', y=1.05)"
   ]
  },
  {
   "cell_type": "code",
   "execution_count": null,
   "metadata": {},
   "outputs": [],
   "source": [
    "plt.figure(figsize=(10,8))\n",
    "sns.scatterplot(x='Age', y='ConversionRate', data=dfe)\n",
    "plt.title('Correlation Between Conversion Rate and Age', fontsize=18, fontweight='bold')"
   ]
  },
  {
   "cell_type": "code",
   "execution_count": null,
   "metadata": {},
   "outputs": [],
   "source": [
    "plt.figure(figsize=(10,8))\n",
    "sns.scatterplot(x='TotalSpending', y='ConversionRate', data=dfe)\n",
    "# plt.ylim(0, 10)\n",
    "plt.title('Correlation Between Conversion Rate and Total Spending', fontsize=18, fontweight='bold')\n",
    "# plt.text(50, 365, 'Correlated+', color='green', fontsize=13, fontstyle='oblique')"
   ]
  },
  {
   "cell_type": "code",
   "execution_count": null,
   "metadata": {},
   "outputs": [],
   "source": [
    "plt.figure(figsize=(10,8))\n",
    "sns.barplot(x='AgeGroup', y='ConversionRate', data=dfe, palette='Set1', errorbar=None)"
   ]
  },
  {
   "cell_type": "code",
   "execution_count": null,
   "metadata": {},
   "outputs": [],
   "source": [
    "plt.figure(figsize=(10,8))\n",
    "\n",
    "sns.barplot(x='Education', y='ConversionRate', data=dfe, palette='Set1', errorbar=None)"
   ]
  },
  {
   "cell_type": "code",
   "execution_count": null,
   "metadata": {},
   "outputs": [],
   "source": [
    "num = dfe.select_dtypes(['int64', 'float64'])\n",
    "plt.figure(figsize=(20, 8))\n",
    "sns.heatmap(num.corr(), annot=True, cmap='coolwarm')\n",
    "plt.title('Correlation Heatmap')\n",
    "plt.show()"
   ]
  },
  {
   "cell_type": "code",
   "execution_count": null,
   "metadata": {},
   "outputs": [],
   "source": []
  }
 ],
 "metadata": {
  "kernelspec": {
   "display_name": "Python 3",
   "language": "python",
   "name": "python3"
  },
  "language_info": {
   "codemirror_mode": {
    "name": "ipython",
    "version": 3
   },
   "file_extension": ".py",
   "mimetype": "text/x-python",
   "name": "python",
   "nbconvert_exporter": "python",
   "pygments_lexer": "ipython3",
   "version": "3.11.7"
  }
 },
 "nbformat": 4,
 "nbformat_minor": 2
}
